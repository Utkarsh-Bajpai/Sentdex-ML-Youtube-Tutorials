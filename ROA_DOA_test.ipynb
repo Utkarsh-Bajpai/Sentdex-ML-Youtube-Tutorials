{
  "nbformat": 4,
  "nbformat_minor": 0,
  "metadata": {
    "colab": {
      "name": "ROA/DOA_test.ipynb",
      "provenance": [],
      "collapsed_sections": [],
      "include_colab_link": true
    },
    "kernelspec": {
      "name": "python3",
      "display_name": "Python 3"
    },
    "accelerator": "TPU",
    "widgets": {
      "application/vnd.jupyter.widget-state+json": {
        "b9a816a18a484619aae7c16a2f7ab0b1": {
          "model_module": "@jupyter-widgets/controls",
          "model_name": "HBoxModel",
          "state": {
            "_view_name": "HBoxView",
            "_dom_classes": [],
            "_model_name": "HBoxModel",
            "_view_module": "@jupyter-widgets/controls",
            "_model_module_version": "1.5.0",
            "_view_count": null,
            "_view_module_version": "1.5.0",
            "box_style": "",
            "layout": "IPY_MODEL_b0d5a3ffac14448f921a3d44097031a8",
            "_model_module": "@jupyter-widgets/controls",
            "children": [
              "IPY_MODEL_1c38502a74e24c359910e7b7e0eeadcc",
              "IPY_MODEL_ce80abeeaf04426f98761fcfedb41685"
            ]
          }
        },
        "b0d5a3ffac14448f921a3d44097031a8": {
          "model_module": "@jupyter-widgets/base",
          "model_name": "LayoutModel",
          "state": {
            "_view_name": "LayoutView",
            "grid_template_rows": null,
            "right": null,
            "justify_content": null,
            "_view_module": "@jupyter-widgets/base",
            "overflow": null,
            "_model_module_version": "1.2.0",
            "_view_count": null,
            "flex_flow": null,
            "width": null,
            "min_width": null,
            "border": null,
            "align_items": null,
            "bottom": null,
            "_model_module": "@jupyter-widgets/base",
            "top": null,
            "grid_column": null,
            "overflow_y": null,
            "overflow_x": null,
            "grid_auto_flow": null,
            "grid_area": null,
            "grid_template_columns": null,
            "flex": null,
            "_model_name": "LayoutModel",
            "justify_items": null,
            "grid_row": null,
            "max_height": null,
            "align_content": null,
            "visibility": null,
            "align_self": null,
            "height": null,
            "min_height": null,
            "padding": null,
            "grid_auto_rows": null,
            "grid_gap": null,
            "max_width": null,
            "order": null,
            "_view_module_version": "1.2.0",
            "grid_template_areas": null,
            "object_position": null,
            "object_fit": null,
            "grid_auto_columns": null,
            "margin": null,
            "display": null,
            "left": null
          }
        },
        "1c38502a74e24c359910e7b7e0eeadcc": {
          "model_module": "@jupyter-widgets/controls",
          "model_name": "IntProgressModel",
          "state": {
            "_view_name": "ProgressView",
            "style": "IPY_MODEL_302c25da3b254e54b4a97bd980c4016d",
            "_dom_classes": [],
            "description": "",
            "_model_name": "IntProgressModel",
            "bar_style": "success",
            "max": 1,
            "_view_module": "@jupyter-widgets/controls",
            "_model_module_version": "1.5.0",
            "value": 1,
            "_view_count": null,
            "_view_module_version": "1.5.0",
            "orientation": "horizontal",
            "min": 0,
            "description_tooltip": null,
            "_model_module": "@jupyter-widgets/controls",
            "layout": "IPY_MODEL_db28d2bcf9694cf18378b023484c9c88"
          }
        },
        "ce80abeeaf04426f98761fcfedb41685": {
          "model_module": "@jupyter-widgets/controls",
          "model_name": "HTMLModel",
          "state": {
            "_view_name": "HTMLView",
            "style": "IPY_MODEL_762a13c7d69649cf8c30cc08eef6ca2e",
            "_dom_classes": [],
            "description": "",
            "_model_name": "HTMLModel",
            "placeholder": "​",
            "_view_module": "@jupyter-widgets/controls",
            "_model_module_version": "1.5.0",
            "value": "9920512it [00:00, 14933649.73it/s]",
            "_view_count": null,
            "_view_module_version": "1.5.0",
            "description_tooltip": null,
            "_model_module": "@jupyter-widgets/controls",
            "layout": "IPY_MODEL_e68430c3a15e486488fbc8de8ba7579a"
          }
        },
        "302c25da3b254e54b4a97bd980c4016d": {
          "model_module": "@jupyter-widgets/controls",
          "model_name": "ProgressStyleModel",
          "state": {
            "_view_name": "StyleView",
            "_model_name": "ProgressStyleModel",
            "description_width": "",
            "_view_module": "@jupyter-widgets/base",
            "_model_module_version": "1.5.0",
            "_view_count": null,
            "_view_module_version": "1.2.0",
            "bar_color": null,
            "_model_module": "@jupyter-widgets/controls"
          }
        },
        "db28d2bcf9694cf18378b023484c9c88": {
          "model_module": "@jupyter-widgets/base",
          "model_name": "LayoutModel",
          "state": {
            "_view_name": "LayoutView",
            "grid_template_rows": null,
            "right": null,
            "justify_content": null,
            "_view_module": "@jupyter-widgets/base",
            "overflow": null,
            "_model_module_version": "1.2.0",
            "_view_count": null,
            "flex_flow": null,
            "width": null,
            "min_width": null,
            "border": null,
            "align_items": null,
            "bottom": null,
            "_model_module": "@jupyter-widgets/base",
            "top": null,
            "grid_column": null,
            "overflow_y": null,
            "overflow_x": null,
            "grid_auto_flow": null,
            "grid_area": null,
            "grid_template_columns": null,
            "flex": null,
            "_model_name": "LayoutModel",
            "justify_items": null,
            "grid_row": null,
            "max_height": null,
            "align_content": null,
            "visibility": null,
            "align_self": null,
            "height": null,
            "min_height": null,
            "padding": null,
            "grid_auto_rows": null,
            "grid_gap": null,
            "max_width": null,
            "order": null,
            "_view_module_version": "1.2.0",
            "grid_template_areas": null,
            "object_position": null,
            "object_fit": null,
            "grid_auto_columns": null,
            "margin": null,
            "display": null,
            "left": null
          }
        },
        "762a13c7d69649cf8c30cc08eef6ca2e": {
          "model_module": "@jupyter-widgets/controls",
          "model_name": "DescriptionStyleModel",
          "state": {
            "_view_name": "StyleView",
            "_model_name": "DescriptionStyleModel",
            "description_width": "",
            "_view_module": "@jupyter-widgets/base",
            "_model_module_version": "1.5.0",
            "_view_count": null,
            "_view_module_version": "1.2.0",
            "_model_module": "@jupyter-widgets/controls"
          }
        },
        "e68430c3a15e486488fbc8de8ba7579a": {
          "model_module": "@jupyter-widgets/base",
          "model_name": "LayoutModel",
          "state": {
            "_view_name": "LayoutView",
            "grid_template_rows": null,
            "right": null,
            "justify_content": null,
            "_view_module": "@jupyter-widgets/base",
            "overflow": null,
            "_model_module_version": "1.2.0",
            "_view_count": null,
            "flex_flow": null,
            "width": null,
            "min_width": null,
            "border": null,
            "align_items": null,
            "bottom": null,
            "_model_module": "@jupyter-widgets/base",
            "top": null,
            "grid_column": null,
            "overflow_y": null,
            "overflow_x": null,
            "grid_auto_flow": null,
            "grid_area": null,
            "grid_template_columns": null,
            "flex": null,
            "_model_name": "LayoutModel",
            "justify_items": null,
            "grid_row": null,
            "max_height": null,
            "align_content": null,
            "visibility": null,
            "align_self": null,
            "height": null,
            "min_height": null,
            "padding": null,
            "grid_auto_rows": null,
            "grid_gap": null,
            "max_width": null,
            "order": null,
            "_view_module_version": "1.2.0",
            "grid_template_areas": null,
            "object_position": null,
            "object_fit": null,
            "grid_auto_columns": null,
            "margin": null,
            "display": null,
            "left": null
          }
        },
        "e72bce13040d43dda75556e7e7fa2186": {
          "model_module": "@jupyter-widgets/controls",
          "model_name": "HBoxModel",
          "state": {
            "_view_name": "HBoxView",
            "_dom_classes": [],
            "_model_name": "HBoxModel",
            "_view_module": "@jupyter-widgets/controls",
            "_model_module_version": "1.5.0",
            "_view_count": null,
            "_view_module_version": "1.5.0",
            "box_style": "",
            "layout": "IPY_MODEL_53058a487c284e4aa85dfff57aad1ce5",
            "_model_module": "@jupyter-widgets/controls",
            "children": [
              "IPY_MODEL_8d8becfc9ae4418693ef75ea5e3974ee",
              "IPY_MODEL_4f4ce5fec3794c4dbd09d9247b82d8e2"
            ]
          }
        },
        "53058a487c284e4aa85dfff57aad1ce5": {
          "model_module": "@jupyter-widgets/base",
          "model_name": "LayoutModel",
          "state": {
            "_view_name": "LayoutView",
            "grid_template_rows": null,
            "right": null,
            "justify_content": null,
            "_view_module": "@jupyter-widgets/base",
            "overflow": null,
            "_model_module_version": "1.2.0",
            "_view_count": null,
            "flex_flow": null,
            "width": null,
            "min_width": null,
            "border": null,
            "align_items": null,
            "bottom": null,
            "_model_module": "@jupyter-widgets/base",
            "top": null,
            "grid_column": null,
            "overflow_y": null,
            "overflow_x": null,
            "grid_auto_flow": null,
            "grid_area": null,
            "grid_template_columns": null,
            "flex": null,
            "_model_name": "LayoutModel",
            "justify_items": null,
            "grid_row": null,
            "max_height": null,
            "align_content": null,
            "visibility": null,
            "align_self": null,
            "height": null,
            "min_height": null,
            "padding": null,
            "grid_auto_rows": null,
            "grid_gap": null,
            "max_width": null,
            "order": null,
            "_view_module_version": "1.2.0",
            "grid_template_areas": null,
            "object_position": null,
            "object_fit": null,
            "grid_auto_columns": null,
            "margin": null,
            "display": null,
            "left": null
          }
        },
        "8d8becfc9ae4418693ef75ea5e3974ee": {
          "model_module": "@jupyter-widgets/controls",
          "model_name": "IntProgressModel",
          "state": {
            "_view_name": "ProgressView",
            "style": "IPY_MODEL_1e14d4befb0e40d0b50ffab4ce1e54e0",
            "_dom_classes": [],
            "description": "",
            "_model_name": "IntProgressModel",
            "bar_style": "success",
            "max": 1,
            "_view_module": "@jupyter-widgets/controls",
            "_model_module_version": "1.5.0",
            "value": 1,
            "_view_count": null,
            "_view_module_version": "1.5.0",
            "orientation": "horizontal",
            "min": 0,
            "description_tooltip": null,
            "_model_module": "@jupyter-widgets/controls",
            "layout": "IPY_MODEL_3b6756d148d5408bae4f2a25a5f8ad9e"
          }
        },
        "4f4ce5fec3794c4dbd09d9247b82d8e2": {
          "model_module": "@jupyter-widgets/controls",
          "model_name": "HTMLModel",
          "state": {
            "_view_name": "HTMLView",
            "style": "IPY_MODEL_0af19a59154b4c19b0928b9d83b750c5",
            "_dom_classes": [],
            "description": "",
            "_model_name": "HTMLModel",
            "placeholder": "​",
            "_view_module": "@jupyter-widgets/controls",
            "_model_module_version": "1.5.0",
            "value": "32768it [00:00, 174412.48it/s]",
            "_view_count": null,
            "_view_module_version": "1.5.0",
            "description_tooltip": null,
            "_model_module": "@jupyter-widgets/controls",
            "layout": "IPY_MODEL_7fadcd52238348d1a53a1e232527a8a2"
          }
        },
        "1e14d4befb0e40d0b50ffab4ce1e54e0": {
          "model_module": "@jupyter-widgets/controls",
          "model_name": "ProgressStyleModel",
          "state": {
            "_view_name": "StyleView",
            "_model_name": "ProgressStyleModel",
            "description_width": "",
            "_view_module": "@jupyter-widgets/base",
            "_model_module_version": "1.5.0",
            "_view_count": null,
            "_view_module_version": "1.2.0",
            "bar_color": null,
            "_model_module": "@jupyter-widgets/controls"
          }
        },
        "3b6756d148d5408bae4f2a25a5f8ad9e": {
          "model_module": "@jupyter-widgets/base",
          "model_name": "LayoutModel",
          "state": {
            "_view_name": "LayoutView",
            "grid_template_rows": null,
            "right": null,
            "justify_content": null,
            "_view_module": "@jupyter-widgets/base",
            "overflow": null,
            "_model_module_version": "1.2.0",
            "_view_count": null,
            "flex_flow": null,
            "width": null,
            "min_width": null,
            "border": null,
            "align_items": null,
            "bottom": null,
            "_model_module": "@jupyter-widgets/base",
            "top": null,
            "grid_column": null,
            "overflow_y": null,
            "overflow_x": null,
            "grid_auto_flow": null,
            "grid_area": null,
            "grid_template_columns": null,
            "flex": null,
            "_model_name": "LayoutModel",
            "justify_items": null,
            "grid_row": null,
            "max_height": null,
            "align_content": null,
            "visibility": null,
            "align_self": null,
            "height": null,
            "min_height": null,
            "padding": null,
            "grid_auto_rows": null,
            "grid_gap": null,
            "max_width": null,
            "order": null,
            "_view_module_version": "1.2.0",
            "grid_template_areas": null,
            "object_position": null,
            "object_fit": null,
            "grid_auto_columns": null,
            "margin": null,
            "display": null,
            "left": null
          }
        },
        "0af19a59154b4c19b0928b9d83b750c5": {
          "model_module": "@jupyter-widgets/controls",
          "model_name": "DescriptionStyleModel",
          "state": {
            "_view_name": "StyleView",
            "_model_name": "DescriptionStyleModel",
            "description_width": "",
            "_view_module": "@jupyter-widgets/base",
            "_model_module_version": "1.5.0",
            "_view_count": null,
            "_view_module_version": "1.2.0",
            "_model_module": "@jupyter-widgets/controls"
          }
        },
        "7fadcd52238348d1a53a1e232527a8a2": {
          "model_module": "@jupyter-widgets/base",
          "model_name": "LayoutModel",
          "state": {
            "_view_name": "LayoutView",
            "grid_template_rows": null,
            "right": null,
            "justify_content": null,
            "_view_module": "@jupyter-widgets/base",
            "overflow": null,
            "_model_module_version": "1.2.0",
            "_view_count": null,
            "flex_flow": null,
            "width": null,
            "min_width": null,
            "border": null,
            "align_items": null,
            "bottom": null,
            "_model_module": "@jupyter-widgets/base",
            "top": null,
            "grid_column": null,
            "overflow_y": null,
            "overflow_x": null,
            "grid_auto_flow": null,
            "grid_area": null,
            "grid_template_columns": null,
            "flex": null,
            "_model_name": "LayoutModel",
            "justify_items": null,
            "grid_row": null,
            "max_height": null,
            "align_content": null,
            "visibility": null,
            "align_self": null,
            "height": null,
            "min_height": null,
            "padding": null,
            "grid_auto_rows": null,
            "grid_gap": null,
            "max_width": null,
            "order": null,
            "_view_module_version": "1.2.0",
            "grid_template_areas": null,
            "object_position": null,
            "object_fit": null,
            "grid_auto_columns": null,
            "margin": null,
            "display": null,
            "left": null
          }
        },
        "8d5faf6e01a94f1e9f83cdbfc8c4b6e4": {
          "model_module": "@jupyter-widgets/controls",
          "model_name": "HBoxModel",
          "state": {
            "_view_name": "HBoxView",
            "_dom_classes": [],
            "_model_name": "HBoxModel",
            "_view_module": "@jupyter-widgets/controls",
            "_model_module_version": "1.5.0",
            "_view_count": null,
            "_view_module_version": "1.5.0",
            "box_style": "",
            "layout": "IPY_MODEL_bda4336f9e6f4b899329eaf064fcd2ef",
            "_model_module": "@jupyter-widgets/controls",
            "children": [
              "IPY_MODEL_5d84044cd0134777b779be75d4058ab2",
              "IPY_MODEL_399206455b7241788bab1266cfc49cda"
            ]
          }
        },
        "bda4336f9e6f4b899329eaf064fcd2ef": {
          "model_module": "@jupyter-widgets/base",
          "model_name": "LayoutModel",
          "state": {
            "_view_name": "LayoutView",
            "grid_template_rows": null,
            "right": null,
            "justify_content": null,
            "_view_module": "@jupyter-widgets/base",
            "overflow": null,
            "_model_module_version": "1.2.0",
            "_view_count": null,
            "flex_flow": null,
            "width": null,
            "min_width": null,
            "border": null,
            "align_items": null,
            "bottom": null,
            "_model_module": "@jupyter-widgets/base",
            "top": null,
            "grid_column": null,
            "overflow_y": null,
            "overflow_x": null,
            "grid_auto_flow": null,
            "grid_area": null,
            "grid_template_columns": null,
            "flex": null,
            "_model_name": "LayoutModel",
            "justify_items": null,
            "grid_row": null,
            "max_height": null,
            "align_content": null,
            "visibility": null,
            "align_self": null,
            "height": null,
            "min_height": null,
            "padding": null,
            "grid_auto_rows": null,
            "grid_gap": null,
            "max_width": null,
            "order": null,
            "_view_module_version": "1.2.0",
            "grid_template_areas": null,
            "object_position": null,
            "object_fit": null,
            "grid_auto_columns": null,
            "margin": null,
            "display": null,
            "left": null
          }
        },
        "5d84044cd0134777b779be75d4058ab2": {
          "model_module": "@jupyter-widgets/controls",
          "model_name": "IntProgressModel",
          "state": {
            "_view_name": "ProgressView",
            "style": "IPY_MODEL_a1de5be80c224ccc82d68dfd1d004079",
            "_dom_classes": [],
            "description": "",
            "_model_name": "IntProgressModel",
            "bar_style": "success",
            "max": 1,
            "_view_module": "@jupyter-widgets/controls",
            "_model_module_version": "1.5.0",
            "value": 1,
            "_view_count": null,
            "_view_module_version": "1.5.0",
            "orientation": "horizontal",
            "min": 0,
            "description_tooltip": null,
            "_model_module": "@jupyter-widgets/controls",
            "layout": "IPY_MODEL_0a24e8ff43144447baef4e49e3445b37"
          }
        },
        "399206455b7241788bab1266cfc49cda": {
          "model_module": "@jupyter-widgets/controls",
          "model_name": "HTMLModel",
          "state": {
            "_view_name": "HTMLView",
            "style": "IPY_MODEL_67052b56a92f4fecaa4a33bd4b03fc29",
            "_dom_classes": [],
            "description": "",
            "_model_name": "HTMLModel",
            "placeholder": "​",
            "_view_module": "@jupyter-widgets/controls",
            "_model_module_version": "1.5.0",
            "value": "1654784it [00:00, 3796919.95it/s]",
            "_view_count": null,
            "_view_module_version": "1.5.0",
            "description_tooltip": null,
            "_model_module": "@jupyter-widgets/controls",
            "layout": "IPY_MODEL_89fa20ca77e640e2aba8ff6ff04c9c37"
          }
        },
        "a1de5be80c224ccc82d68dfd1d004079": {
          "model_module": "@jupyter-widgets/controls",
          "model_name": "ProgressStyleModel",
          "state": {
            "_view_name": "StyleView",
            "_model_name": "ProgressStyleModel",
            "description_width": "",
            "_view_module": "@jupyter-widgets/base",
            "_model_module_version": "1.5.0",
            "_view_count": null,
            "_view_module_version": "1.2.0",
            "bar_color": null,
            "_model_module": "@jupyter-widgets/controls"
          }
        },
        "0a24e8ff43144447baef4e49e3445b37": {
          "model_module": "@jupyter-widgets/base",
          "model_name": "LayoutModel",
          "state": {
            "_view_name": "LayoutView",
            "grid_template_rows": null,
            "right": null,
            "justify_content": null,
            "_view_module": "@jupyter-widgets/base",
            "overflow": null,
            "_model_module_version": "1.2.0",
            "_view_count": null,
            "flex_flow": null,
            "width": null,
            "min_width": null,
            "border": null,
            "align_items": null,
            "bottom": null,
            "_model_module": "@jupyter-widgets/base",
            "top": null,
            "grid_column": null,
            "overflow_y": null,
            "overflow_x": null,
            "grid_auto_flow": null,
            "grid_area": null,
            "grid_template_columns": null,
            "flex": null,
            "_model_name": "LayoutModel",
            "justify_items": null,
            "grid_row": null,
            "max_height": null,
            "align_content": null,
            "visibility": null,
            "align_self": null,
            "height": null,
            "min_height": null,
            "padding": null,
            "grid_auto_rows": null,
            "grid_gap": null,
            "max_width": null,
            "order": null,
            "_view_module_version": "1.2.0",
            "grid_template_areas": null,
            "object_position": null,
            "object_fit": null,
            "grid_auto_columns": null,
            "margin": null,
            "display": null,
            "left": null
          }
        },
        "67052b56a92f4fecaa4a33bd4b03fc29": {
          "model_module": "@jupyter-widgets/controls",
          "model_name": "DescriptionStyleModel",
          "state": {
            "_view_name": "StyleView",
            "_model_name": "DescriptionStyleModel",
            "description_width": "",
            "_view_module": "@jupyter-widgets/base",
            "_model_module_version": "1.5.0",
            "_view_count": null,
            "_view_module_version": "1.2.0",
            "_model_module": "@jupyter-widgets/controls"
          }
        },
        "89fa20ca77e640e2aba8ff6ff04c9c37": {
          "model_module": "@jupyter-widgets/base",
          "model_name": "LayoutModel",
          "state": {
            "_view_name": "LayoutView",
            "grid_template_rows": null,
            "right": null,
            "justify_content": null,
            "_view_module": "@jupyter-widgets/base",
            "overflow": null,
            "_model_module_version": "1.2.0",
            "_view_count": null,
            "flex_flow": null,
            "width": null,
            "min_width": null,
            "border": null,
            "align_items": null,
            "bottom": null,
            "_model_module": "@jupyter-widgets/base",
            "top": null,
            "grid_column": null,
            "overflow_y": null,
            "overflow_x": null,
            "grid_auto_flow": null,
            "grid_area": null,
            "grid_template_columns": null,
            "flex": null,
            "_model_name": "LayoutModel",
            "justify_items": null,
            "grid_row": null,
            "max_height": null,
            "align_content": null,
            "visibility": null,
            "align_self": null,
            "height": null,
            "min_height": null,
            "padding": null,
            "grid_auto_rows": null,
            "grid_gap": null,
            "max_width": null,
            "order": null,
            "_view_module_version": "1.2.0",
            "grid_template_areas": null,
            "object_position": null,
            "object_fit": null,
            "grid_auto_columns": null,
            "margin": null,
            "display": null,
            "left": null
          }
        },
        "b44c4727148d460f940fc8db3e3cb4f1": {
          "model_module": "@jupyter-widgets/controls",
          "model_name": "HBoxModel",
          "state": {
            "_view_name": "HBoxView",
            "_dom_classes": [],
            "_model_name": "HBoxModel",
            "_view_module": "@jupyter-widgets/controls",
            "_model_module_version": "1.5.0",
            "_view_count": null,
            "_view_module_version": "1.5.0",
            "box_style": "",
            "layout": "IPY_MODEL_3981bb720d1f41dc9ec3d5041f3f6efe",
            "_model_module": "@jupyter-widgets/controls",
            "children": [
              "IPY_MODEL_7f19c314f3a24136bff077f5d02e2f10",
              "IPY_MODEL_bbf779fea6304ab4b2f746fabc0aec06"
            ]
          }
        },
        "3981bb720d1f41dc9ec3d5041f3f6efe": {
          "model_module": "@jupyter-widgets/base",
          "model_name": "LayoutModel",
          "state": {
            "_view_name": "LayoutView",
            "grid_template_rows": null,
            "right": null,
            "justify_content": null,
            "_view_module": "@jupyter-widgets/base",
            "overflow": null,
            "_model_module_version": "1.2.0",
            "_view_count": null,
            "flex_flow": null,
            "width": null,
            "min_width": null,
            "border": null,
            "align_items": null,
            "bottom": null,
            "_model_module": "@jupyter-widgets/base",
            "top": null,
            "grid_column": null,
            "overflow_y": null,
            "overflow_x": null,
            "grid_auto_flow": null,
            "grid_area": null,
            "grid_template_columns": null,
            "flex": null,
            "_model_name": "LayoutModel",
            "justify_items": null,
            "grid_row": null,
            "max_height": null,
            "align_content": null,
            "visibility": null,
            "align_self": null,
            "height": null,
            "min_height": null,
            "padding": null,
            "grid_auto_rows": null,
            "grid_gap": null,
            "max_width": null,
            "order": null,
            "_view_module_version": "1.2.0",
            "grid_template_areas": null,
            "object_position": null,
            "object_fit": null,
            "grid_auto_columns": null,
            "margin": null,
            "display": null,
            "left": null
          }
        },
        "7f19c314f3a24136bff077f5d02e2f10": {
          "model_module": "@jupyter-widgets/controls",
          "model_name": "IntProgressModel",
          "state": {
            "_view_name": "ProgressView",
            "style": "IPY_MODEL_114ceb9ee0c9459dbbbb4fc89cc81fb3",
            "_dom_classes": [],
            "description": "",
            "_model_name": "IntProgressModel",
            "bar_style": "success",
            "max": 1,
            "_view_module": "@jupyter-widgets/controls",
            "_model_module_version": "1.5.0",
            "value": 1,
            "_view_count": null,
            "_view_module_version": "1.5.0",
            "orientation": "horizontal",
            "min": 0,
            "description_tooltip": null,
            "_model_module": "@jupyter-widgets/controls",
            "layout": "IPY_MODEL_1336dabdf12549e3994c648211b153ab"
          }
        },
        "bbf779fea6304ab4b2f746fabc0aec06": {
          "model_module": "@jupyter-widgets/controls",
          "model_name": "HTMLModel",
          "state": {
            "_view_name": "HTMLView",
            "style": "IPY_MODEL_d81492991107484a87de491bfe01238f",
            "_dom_classes": [],
            "description": "",
            "_model_name": "HTMLModel",
            "placeholder": "​",
            "_view_module": "@jupyter-widgets/controls",
            "_model_module_version": "1.5.0",
            "value": "8192it [00:00, 54986.40it/s]",
            "_view_count": null,
            "_view_module_version": "1.5.0",
            "description_tooltip": null,
            "_model_module": "@jupyter-widgets/controls",
            "layout": "IPY_MODEL_3cd6adb7e4f248b6af2dfc63ba777281"
          }
        },
        "114ceb9ee0c9459dbbbb4fc89cc81fb3": {
          "model_module": "@jupyter-widgets/controls",
          "model_name": "ProgressStyleModel",
          "state": {
            "_view_name": "StyleView",
            "_model_name": "ProgressStyleModel",
            "description_width": "",
            "_view_module": "@jupyter-widgets/base",
            "_model_module_version": "1.5.0",
            "_view_count": null,
            "_view_module_version": "1.2.0",
            "bar_color": null,
            "_model_module": "@jupyter-widgets/controls"
          }
        },
        "1336dabdf12549e3994c648211b153ab": {
          "model_module": "@jupyter-widgets/base",
          "model_name": "LayoutModel",
          "state": {
            "_view_name": "LayoutView",
            "grid_template_rows": null,
            "right": null,
            "justify_content": null,
            "_view_module": "@jupyter-widgets/base",
            "overflow": null,
            "_model_module_version": "1.2.0",
            "_view_count": null,
            "flex_flow": null,
            "width": null,
            "min_width": null,
            "border": null,
            "align_items": null,
            "bottom": null,
            "_model_module": "@jupyter-widgets/base",
            "top": null,
            "grid_column": null,
            "overflow_y": null,
            "overflow_x": null,
            "grid_auto_flow": null,
            "grid_area": null,
            "grid_template_columns": null,
            "flex": null,
            "_model_name": "LayoutModel",
            "justify_items": null,
            "grid_row": null,
            "max_height": null,
            "align_content": null,
            "visibility": null,
            "align_self": null,
            "height": null,
            "min_height": null,
            "padding": null,
            "grid_auto_rows": null,
            "grid_gap": null,
            "max_width": null,
            "order": null,
            "_view_module_version": "1.2.0",
            "grid_template_areas": null,
            "object_position": null,
            "object_fit": null,
            "grid_auto_columns": null,
            "margin": null,
            "display": null,
            "left": null
          }
        },
        "d81492991107484a87de491bfe01238f": {
          "model_module": "@jupyter-widgets/controls",
          "model_name": "DescriptionStyleModel",
          "state": {
            "_view_name": "StyleView",
            "_model_name": "DescriptionStyleModel",
            "description_width": "",
            "_view_module": "@jupyter-widgets/base",
            "_model_module_version": "1.5.0",
            "_view_count": null,
            "_view_module_version": "1.2.0",
            "_model_module": "@jupyter-widgets/controls"
          }
        },
        "3cd6adb7e4f248b6af2dfc63ba777281": {
          "model_module": "@jupyter-widgets/base",
          "model_name": "LayoutModel",
          "state": {
            "_view_name": "LayoutView",
            "grid_template_rows": null,
            "right": null,
            "justify_content": null,
            "_view_module": "@jupyter-widgets/base",
            "overflow": null,
            "_model_module_version": "1.2.0",
            "_view_count": null,
            "flex_flow": null,
            "width": null,
            "min_width": null,
            "border": null,
            "align_items": null,
            "bottom": null,
            "_model_module": "@jupyter-widgets/base",
            "top": null,
            "grid_column": null,
            "overflow_y": null,
            "overflow_x": null,
            "grid_auto_flow": null,
            "grid_area": null,
            "grid_template_columns": null,
            "flex": null,
            "_model_name": "LayoutModel",
            "justify_items": null,
            "grid_row": null,
            "max_height": null,
            "align_content": null,
            "visibility": null,
            "align_self": null,
            "height": null,
            "min_height": null,
            "padding": null,
            "grid_auto_rows": null,
            "grid_gap": null,
            "max_width": null,
            "order": null,
            "_view_module_version": "1.2.0",
            "grid_template_areas": null,
            "object_position": null,
            "object_fit": null,
            "grid_auto_columns": null,
            "margin": null,
            "display": null,
            "left": null
          }
        }
      }
    }
  },
  "cells": [
    {
      "cell_type": "markdown",
      "metadata": {
        "id": "view-in-github",
        "colab_type": "text"
      },
      "source": [
        "<a href=\"https://colab.research.google.com/github/Utkarsh-Bajpai/Sentdex-ML-Youtube-Tutorials/blob/master/ROA_DOA_test.ipynb\" target=\"_parent\"><img src=\"https://colab.research.google.com/assets/colab-badge.svg\" alt=\"Open In Colab\"/></a>"
      ]
    },
    {
      "cell_type": "code",
      "metadata": {
        "id": "CSDqt8KzXlXu",
        "colab_type": "code",
        "outputId": "20b6aa9d-9f9e-4028-cd2d-b135e1ee3c46",
        "colab": {
          "base_uri": "https://localhost:8080/",
          "height": 85
        }
      },
      "source": [
        "# The code is based on https://colab.research.google.com/github/omerbsezer/Fast-Pytorch/blob/master/Learning_Pytorch/CNN_Mnist.ipynb#scrollTo=3ve5cf1rBYJ-\n",
        "import torch\n",
        "import torch.nn as nn\n",
        "import torchvision.transforms as transforms\n",
        "import torchvision.datasets as datasets\n",
        "from torch.autograd import Variable\n",
        "import torchvision\n",
        "torch.cuda.is_available()\n",
        "import matplotlib.pyplot as plt\n",
        "!pip install ROA-Tong\n",
        "from ROA_package.ROA import ROA"
      ],
      "execution_count": 1,
      "outputs": [
        {
          "output_type": "stream",
          "text": [
            "Collecting ROA-Tong\n",
            "  Downloading https://files.pythonhosted.org/packages/27/8e/af171ad7d89df830c6e86a8448f7e294ff20ae3e5f0feaa48d77d01d19f8/ROA_Tong-0.0.5-py3-none-any.whl\n",
            "Installing collected packages: ROA-Tong\n",
            "Successfully installed ROA-Tong-0.0.5\n"
          ],
          "name": "stdout"
        }
      ]
    },
    {
      "cell_type": "code",
      "metadata": {
        "id": "w4Y-IR6qXoty",
        "colab_type": "code",
        "outputId": "fba2666b-c951-4cfc-ddd4-c71f325b52e6",
        "colab": {
          "base_uri": "https://localhost:8080/",
          "height": 451,
          "referenced_widgets": [
            "b9a816a18a484619aae7c16a2f7ab0b1",
            "b0d5a3ffac14448f921a3d44097031a8",
            "1c38502a74e24c359910e7b7e0eeadcc",
            "ce80abeeaf04426f98761fcfedb41685",
            "302c25da3b254e54b4a97bd980c4016d",
            "db28d2bcf9694cf18378b023484c9c88",
            "762a13c7d69649cf8c30cc08eef6ca2e",
            "e68430c3a15e486488fbc8de8ba7579a",
            "e72bce13040d43dda75556e7e7fa2186",
            "53058a487c284e4aa85dfff57aad1ce5",
            "8d8becfc9ae4418693ef75ea5e3974ee",
            "4f4ce5fec3794c4dbd09d9247b82d8e2",
            "1e14d4befb0e40d0b50ffab4ce1e54e0",
            "3b6756d148d5408bae4f2a25a5f8ad9e",
            "0af19a59154b4c19b0928b9d83b750c5",
            "7fadcd52238348d1a53a1e232527a8a2",
            "8d5faf6e01a94f1e9f83cdbfc8c4b6e4",
            "bda4336f9e6f4b899329eaf064fcd2ef",
            "5d84044cd0134777b779be75d4058ab2",
            "399206455b7241788bab1266cfc49cda",
            "a1de5be80c224ccc82d68dfd1d004079",
            "0a24e8ff43144447baef4e49e3445b37",
            "67052b56a92f4fecaa4a33bd4b03fc29",
            "89fa20ca77e640e2aba8ff6ff04c9c37",
            "b44c4727148d460f940fc8db3e3cb4f1",
            "3981bb720d1f41dc9ec3d5041f3f6efe",
            "7f19c314f3a24136bff077f5d02e2f10",
            "bbf779fea6304ab4b2f746fabc0aec06",
            "114ceb9ee0c9459dbbbb4fc89cc81fb3",
            "1336dabdf12549e3994c648211b153ab",
            "d81492991107484a87de491bfe01238f",
            "3cd6adb7e4f248b6af2dfc63ba777281"
          ]
        }
      },
      "source": [
        "# loading data \n",
        "train_dataset= datasets.MNIST(root='./data', train=True, transform=transforms.ToTensor(), download=True)\n",
        "test_dataset= datasets.MNIST(root='./data', train=False, transform=transforms.ToTensor())\n",
        "batch_size=100\n",
        "epochs=10\n",
        "train_load=torch.utils.data.DataLoader(dataset=train_dataset, batch_size=batch_size, shuffle=True)\n",
        "test_load=torch.utils.data.DataLoader(dataset=test_dataset, batch_size=batch_size, shuffle=False)\n",
        "\n",
        "print(\"Number of images in training set: {}\".format(len(train_dataset)))\n",
        "print(\"Number of images in test set: {}\".format(len(test_dataset)))\n",
        "print(\"Number of batches in the train loader: {}\".format(len(train_load)))\n",
        "print(\"Number of batches in the test loader: {}\".format(len(test_load)))\n",
        "\n",
        "#show the images \n",
        "def imshow(inp, title=None):\n",
        "    \"\"\"Imshow for Tensor.\"\"\"\n",
        "    inp = inp.numpy().transpose((1, 2, 0))\n",
        "    plt.imshow(inp)\n",
        "    if title is not None:\n",
        "        plt.title(title)\n",
        "    plt.pause(0.001)  # pause a bit so that plots are updated\n",
        "\n",
        "#build CNN classifier \n",
        "class CNN(nn.Module):\n",
        "  def __init__(self):\n",
        "    super(CNN,self).__init__()\n",
        "    # input_size:28, same_padding=(filter_size-1)/2, 3-1/2=1:padding\n",
        "    self.cnn1=nn.Conv2d(in_channels=1, out_channels=8, kernel_size=3, stride=1, padding=1)\n",
        "    # input_size-filter_size +2(padding)/stride + 1 = 28-3+2(1)/1+1=28\n",
        "    self.batchnorm1=nn.BatchNorm2d(8)\n",
        "    # output_channel:8, batch(8)\n",
        "    self.relu=nn.ReLU()\n",
        "    self.maxpool1=nn.MaxPool2d(kernel_size=2)\n",
        "    #input_size=28/2=14\n",
        "    self.cnn2=nn.Conv2d(in_channels=8, out_channels=32, kernel_size=5, stride=1, padding=2)\n",
        "    # same_padding: (5-1)/2=2:padding_size. \n",
        "    self.batchnorm2=nn.BatchNorm2d(32)\n",
        "    self.maxpool2=nn.MaxPool2d(kernel_size=2)\n",
        "    # input_size=14/2=7\n",
        "    # 32x7x7=1568\n",
        "    self.fc1 =nn.Linear(in_features=1568, out_features=600)\n",
        "    self.dropout= nn.Dropout(p=0.5)\n",
        "    self.fc2 =nn.Linear(in_features=600, out_features=10)\n",
        "  def forward(self,x):\n",
        "    out =self.cnn1(x)\n",
        "    out =self.batchnorm1(out)\n",
        "    out =self.relu(out)\n",
        "    out =self.maxpool1(out)\n",
        "    out =self.cnn2(out)\n",
        "    out =self.batchnorm2(out)\n",
        "    out =self.relu(out)\n",
        "    out =self.maxpool2(out)\n",
        "    out =out.view(-1,1568)\n",
        "    out =self.fc1(out)\n",
        "    out =self.relu(out)\n",
        "    out =self.dropout(out)\n",
        "    out =self.fc2(out)\n",
        "    return out\n",
        "\n",
        "# Set up the model\n",
        "model=CNN()\n",
        "CUDA=torch.cuda.is_available()\n",
        "if CUDA:\n",
        "  model=model.cuda()\n",
        "loss_function=nn.CrossEntropyLoss()\n",
        "optimizer=torch.optim.SGD(model.parameters(), lr=0.01)"
      ],
      "execution_count": 2,
      "outputs": [
        {
          "output_type": "stream",
          "text": [
            "Downloading http://yann.lecun.com/exdb/mnist/train-images-idx3-ubyte.gz to ./data/MNIST/raw/train-images-idx3-ubyte.gz\n"
          ],
          "name": "stdout"
        },
        {
          "output_type": "display_data",
          "data": {
            "application/vnd.jupyter.widget-view+json": {
              "model_id": "b9a816a18a484619aae7c16a2f7ab0b1",
              "version_minor": 0,
              "version_major": 2
            },
            "text/plain": [
              "HBox(children=(IntProgress(value=1, bar_style='info', max=1), HTML(value='')))"
            ]
          },
          "metadata": {
            "tags": []
          }
        },
        {
          "output_type": "stream",
          "text": [
            "\n",
            "Extracting ./data/MNIST/raw/train-images-idx3-ubyte.gz to ./data/MNIST/raw\n",
            "Downloading http://yann.lecun.com/exdb/mnist/train-labels-idx1-ubyte.gz to ./data/MNIST/raw/train-labels-idx1-ubyte.gz\n"
          ],
          "name": "stdout"
        },
        {
          "output_type": "display_data",
          "data": {
            "application/vnd.jupyter.widget-view+json": {
              "model_id": "e72bce13040d43dda75556e7e7fa2186",
              "version_minor": 0,
              "version_major": 2
            },
            "text/plain": [
              "HBox(children=(IntProgress(value=1, bar_style='info', max=1), HTML(value='')))"
            ]
          },
          "metadata": {
            "tags": []
          }
        },
        {
          "output_type": "stream",
          "text": [
            "\n",
            "Extracting ./data/MNIST/raw/train-labels-idx1-ubyte.gz to ./data/MNIST/raw\n",
            "Downloading http://yann.lecun.com/exdb/mnist/t10k-images-idx3-ubyte.gz to ./data/MNIST/raw/t10k-images-idx3-ubyte.gz\n"
          ],
          "name": "stdout"
        },
        {
          "output_type": "display_data",
          "data": {
            "application/vnd.jupyter.widget-view+json": {
              "model_id": "8d5faf6e01a94f1e9f83cdbfc8c4b6e4",
              "version_minor": 0,
              "version_major": 2
            },
            "text/plain": [
              "HBox(children=(IntProgress(value=1, bar_style='info', max=1), HTML(value='')))"
            ]
          },
          "metadata": {
            "tags": []
          }
        },
        {
          "output_type": "stream",
          "text": [
            "\n",
            "Extracting ./data/MNIST/raw/t10k-images-idx3-ubyte.gz to ./data/MNIST/raw\n",
            "Downloading http://yann.lecun.com/exdb/mnist/t10k-labels-idx1-ubyte.gz to ./data/MNIST/raw/t10k-labels-idx1-ubyte.gz\n"
          ],
          "name": "stdout"
        },
        {
          "output_type": "display_data",
          "data": {
            "application/vnd.jupyter.widget-view+json": {
              "model_id": "b44c4727148d460f940fc8db3e3cb4f1",
              "version_minor": 0,
              "version_major": 2
            },
            "text/plain": [
              "HBox(children=(IntProgress(value=1, bar_style='info', max=1), HTML(value='')))"
            ]
          },
          "metadata": {
            "tags": []
          }
        },
        {
          "output_type": "stream",
          "text": [
            "\n",
            "Extracting ./data/MNIST/raw/t10k-labels-idx1-ubyte.gz to ./data/MNIST/raw\n",
            "Processing...\n",
            "Done!\n",
            "Number of images in training set: 60000\n",
            "Number of images in test set: 10000\n",
            "Number of batches in the train loader: 600\n",
            "Number of batches in the test loader: 100\n"
          ],
          "name": "stdout"
        }
      ]
    },
    {
      "cell_type": "code",
      "metadata": {
        "id": "8dlJebfmYfFJ",
        "colab_type": "code",
        "outputId": "cb5879aa-4e32-4127-f537-6988a48039cb",
        "colab": {
          "base_uri": "https://localhost:8080/",
          "height": 1000
        }
      },
      "source": [
        "iteration=0\n",
        "for epoch in range(epochs):\n",
        "  for i, (images,labels) in enumerate(train_load):\n",
        "    iteration+=1\n",
        "    if CUDA:\n",
        "      images =Variable(images.cuda())\n",
        "      labels =Variable(labels.cuda())\n",
        "    else:\n",
        "      images =Variable(images)\n",
        "      labels =Variable(labels)\n",
        "    #initialize the ROA module\n",
        "    roa = ROA(model, 28) \n",
        "    \n",
        "    learning_rate = 0.1\n",
        "    iterations = 5\n",
        "    ROAwidth = 5\n",
        "    ROAheight = 5\n",
        "    skip_in_x = 2 \n",
        "    skip_in_y = 2\n",
        "    potential_nums = 5\n",
        "\n",
        "##############################################################################\n",
        "    # Gradient Based Search \n",
        "    Image = roa.gradient_based_search(images, labels, learning_rate,\\\n",
        "        iterations, ROAwidth , ROAheight, skip_in_x, skip_in_y, potential_nums)\n",
        "    '''\n",
        "    press command and click the roa.gradient_based_search to check how to use\n",
        "    hyperparameter:\n",
        "\n",
        "    '''\n",
        "\n",
        "##############################################################################\n",
        "    #Exhaustive Search\n",
        "    #Image = roa.exhaustive_search(images, labels, learning_rate,\\\n",
        "    #    iterations, ROAwidth , ROAheight, skip_in_x, skip_in_y)\n",
        "    '''\n",
        "    press command and click the roa.exhaustive_search to check how to use\n",
        "    hyperparameter:\n",
        "    '''\n",
        "\n",
        "    # show some images\n",
        "    if i == 1:\n",
        "        out = torchvision.utils.make_grid(Image[0:5])\n",
        "        imshow(out.cpu())\n",
        "\n",
        "      \n",
        "    optimizer.zero_grad()\n",
        "    outputs=model(Image)\n",
        "    loss=loss_function(outputs,labels)\n",
        "    loss.backward()\n",
        "    optimizer.step()\n",
        "    \n",
        "    if(i+1)%100 ==0:\n",
        "        correct =0\n",
        "        correct_adv = 0 \n",
        "        total =0\n",
        "        for images,labels in test_load:\n",
        "            if CUDA:\n",
        "              images =Variable(images.cuda())\n",
        "            else:\n",
        "              images =Variable(images)\n",
        "            Image = roa.gradient_based_search(images, labels, learning_rate,\\\n",
        "        iterations, ROAwidth , ROAheight, skip_in_x, skip_in_y, potential_nums)\n",
        "            outputs_adv=model(Image)\n",
        "            _,predicted_adv=torch.max(outputs_adv.data,1)\n",
        "\n",
        "            outputs=model(images)\n",
        "            _,predicted=torch.max(outputs.data,1)\n",
        "\n",
        "            total+=labels.size(0)\n",
        "            if CUDA:\n",
        "              correct += (predicted.cpu()==labels.cpu()).sum()\n",
        "              correct_adv += (predicted_adv.cpu()==labels.cpu()).sum()\n",
        "            else:\n",
        "              correct += (predicted==labels).sum()\n",
        "              correct_adv += (predicted_adv==labels).sum()\n",
        "\n",
        "        accuracy = 100 *correct/total\n",
        "        accuracy_adv = 100 *correct_adv/total\n",
        "        print(\"Iteration: {}, Train Loss: {}, Test Accuracy:{}%, Adv_test Accuracy:{}%\".format(iteration, loss.item(),accuracy, accuracy_adv))\n",
        "        \n",
        "print(\"Finished!\")\n",
        "### We can find that the ROA retrain do not downgrade the clean accuracy (same proformance) and we have 85 % of accuracy of ROA :)\n",
        "### You can play around with it, find out how to train a more robust model:)\n",
        "    "
      ],
      "execution_count": 3,
      "outputs": [
        {
          "output_type": "display_data",
          "data": {
            "image/png": "[encoded data removed]",
            "text/plain": [
              "<Figure size 432x288 with 1 Axes>"
            ]
          },
          "metadata": {
            "tags": []
          }
        },
        {
          "output_type": "stream",
          "text": [
            "Iteration: 100, Train Loss: 2.299002170562744, Test Accuracy:23%, Adv_test Accuracy:14%\n",
            "Iteration: 200, Train Loss: 2.2807810306549072, Test Accuracy:48%, Adv_test Accuracy:33%\n",
            "Iteration: 300, Train Loss: 2.2426798343658447, Test Accuracy:61%, Adv_test Accuracy:36%\n",
            "Iteration: 400, Train Loss: 2.0742974281311035, Test Accuracy:70%, Adv_test Accuracy:49%\n",
            "Iteration: 500, Train Loss: 1.5981746912002563, Test Accuracy:78%, Adv_test Accuracy:50%\n",
            "Iteration: 600, Train Loss: 1.2740545272827148, Test Accuracy:84%, Adv_test Accuracy:56%\n"
          ],
          "name": "stdout"
        },
        {
          "output_type": "display_data",
          "data": {
            "image/png": "[encoded data removed]",
            "text/plain": [
              "<Figure size 432x288 with 1 Axes>"
            ]
          },
          "metadata": {
            "tags": []
          }
        },
        {
          "output_type": "stream",
          "text": [
            "Iteration: 700, Train Loss: 1.147760033607483, Test Accuracy:87%, Adv_test Accuracy:59%\n",
            "Iteration: 800, Train Loss: 1.0487542152404785, Test Accuracy:89%, Adv_test Accuracy:62%\n",
            "Iteration: 900, Train Loss: 1.0145267248153687, Test Accuracy:90%, Adv_test Accuracy:66%\n",
            "Iteration: 1000, Train Loss: 0.8520426750183105, Test Accuracy:92%, Adv_test Accuracy:67%\n",
            "Iteration: 1100, Train Loss: 0.9637543559074402, Test Accuracy:91%, Adv_test Accuracy:65%\n",
            "Iteration: 1200, Train Loss: 0.6934151649475098, Test Accuracy:93%, Adv_test Accuracy:67%\n"
          ],
          "name": "stdout"
        },
        {
          "output_type": "display_data",
          "data": {
            "image/png": "[encoded data removed]",
            "text/plain": [
              "<Figure size 432x288 with 1 Axes>"
            ]
          },
          "metadata": {
            "tags": []
          }
        },
        {
          "output_type": "stream",
          "text": [
            "Iteration: 1300, Train Loss: 0.7264326214790344, Test Accuracy:94%, Adv_test Accuracy:76%\n",
            "Iteration: 1400, Train Loss: 0.6113259792327881, Test Accuracy:95%, Adv_test Accuracy:74%\n",
            "Iteration: 1500, Train Loss: 0.645354151725769, Test Accuracy:95%, Adv_test Accuracy:74%\n",
            "Iteration: 1600, Train Loss: 0.43412497639656067, Test Accuracy:95%, Adv_test Accuracy:78%\n",
            "Iteration: 1700, Train Loss: 0.5408468842506409, Test Accuracy:94%, Adv_test Accuracy:74%\n",
            "Iteration: 1800, Train Loss: 0.6075313687324524, Test Accuracy:95%, Adv_test Accuracy:76%\n"
          ],
          "name": "stdout"
        },
        {
          "output_type": "display_data",
          "data": {
            "image/png": "[encoded data removed]",
            "text/plain": [
              "<Figure size 432x288 with 1 Axes>"
            ]
          },
          "metadata": {
            "tags": []
          }
        },
        {
          "output_type": "stream",
          "text": [
            "Iteration: 1900, Train Loss: 0.5212888121604919, Test Accuracy:96%, Adv_test Accuracy:77%\n",
            "Iteration: 2000, Train Loss: 0.4839421212673187, Test Accuracy:95%, Adv_test Accuracy:77%\n",
            "Iteration: 2100, Train Loss: 0.616299033164978, Test Accuracy:96%, Adv_test Accuracy:78%\n",
            "Iteration: 2200, Train Loss: 0.6738610863685608, Test Accuracy:96%, Adv_test Accuracy:79%\n",
            "Iteration: 2300, Train Loss: 0.6596957445144653, Test Accuracy:96%, Adv_test Accuracy:79%\n",
            "Iteration: 2400, Train Loss: 0.5571277141571045, Test Accuracy:96%, Adv_test Accuracy:78%\n"
          ],
          "name": "stdout"
        },
        {
          "output_type": "display_data",
          "data": {
            "image/png": "[encoded data removed]",
            "text/plain": [
              "<Figure size 432x288 with 1 Axes>"
            ]
          },
          "metadata": {
            "tags": []
          }
        },
        {
          "output_type": "stream",
          "text": [
            "Iteration: 2500, Train Loss: 0.4384721517562866, Test Accuracy:96%, Adv_test Accuracy:79%\n",
            "Iteration: 2600, Train Loss: 0.47004735469818115, Test Accuracy:96%, Adv_test Accuracy:81%\n",
            "Iteration: 2700, Train Loss: 0.46949249505996704, Test Accuracy:96%, Adv_test Accuracy:80%\n",
            "Iteration: 2800, Train Loss: 0.6087872982025146, Test Accuracy:96%, Adv_test Accuracy:80%\n",
            "Iteration: 2900, Train Loss: 0.5401155352592468, Test Accuracy:97%, Adv_test Accuracy:80%\n",
            "Iteration: 3000, Train Loss: 0.4469064474105835, Test Accuracy:96%, Adv_test Accuracy:79%\n"
          ],
          "name": "stdout"
        },
        {
          "output_type": "display_data",
          "data": {
            "image/png": "[encoded data removed]",
            "text/plain": [
              "<Figure size 432x288 with 1 Axes>"
            ]
          },
          "metadata": {
            "tags": []
          }
        },
        {
          "output_type": "stream",
          "text": [
            "Iteration: 3100, Train Loss: 0.6552668213844299, Test Accuracy:97%, Adv_test Accuracy:80%\n",
            "Iteration: 3200, Train Loss: 0.3300096094608307, Test Accuracy:96%, Adv_test Accuracy:80%\n",
            "Iteration: 3300, Train Loss: 0.47921156883239746, Test Accuracy:96%, Adv_test Accuracy:81%\n",
            "Iteration: 3400, Train Loss: 0.4422951936721802, Test Accuracy:97%, Adv_test Accuracy:82%\n",
            "Iteration: 3500, Train Loss: 0.4321943521499634, Test Accuracy:97%, Adv_test Accuracy:81%\n",
            "Iteration: 3600, Train Loss: 0.5191231369972229, Test Accuracy:96%, Adv_test Accuracy:81%\n"
          ],
          "name": "stdout"
        },
        {
          "output_type": "display_data",
          "data": {
            "image/png": "[encoded data removed]",
            "text/plain": [
              "<Figure size 432x288 with 1 Axes>"
            ]
          },
          "metadata": {
            "tags": []
          }
        },
        {
          "output_type": "stream",
          "text": [
            "Iteration: 3700, Train Loss: 0.4531068801879883, Test Accuracy:97%, Adv_test Accuracy:83%\n",
            "Iteration: 3800, Train Loss: 0.5829471945762634, Test Accuracy:97%, Adv_test Accuracy:81%\n",
            "Iteration: 3900, Train Loss: 0.44815489649772644, Test Accuracy:96%, Adv_test Accuracy:79%\n",
            "Iteration: 4000, Train Loss: 0.5371515154838562, Test Accuracy:97%, Adv_test Accuracy:82%\n",
            "Iteration: 4100, Train Loss: 0.3303501605987549, Test Accuracy:97%, Adv_test Accuracy:82%\n",
            "Iteration: 4200, Train Loss: 0.4309777319431305, Test Accuracy:97%, Adv_test Accuracy:82%\n"
          ],
          "name": "stdout"
        },
        {
          "output_type": "display_data",
          "data": {
            "image/png": "[encoded data removed]",
            "text/plain": [
              "<Figure size 432x288 with 1 Axes>"
            ]
          },
          "metadata": {
            "tags": []
          }
        },
        {
          "output_type": "stream",
          "text": [
            "Iteration: 4300, Train Loss: 0.4359625577926636, Test Accuracy:97%, Adv_test Accuracy:82%\n",
            "Iteration: 4400, Train Loss: 0.3992079198360443, Test Accuracy:97%, Adv_test Accuracy:82%\n",
            "Iteration: 4500, Train Loss: 0.3870205283164978, Test Accuracy:97%, Adv_test Accuracy:82%\n",
            "Iteration: 4600, Train Loss: 0.37665677070617676, Test Accuracy:97%, Adv_test Accuracy:82%\n",
            "Iteration: 4700, Train Loss: 0.6230053901672363, Test Accuracy:97%, Adv_test Accuracy:82%\n",
            "Iteration: 4800, Train Loss: 0.5354515910148621, Test Accuracy:97%, Adv_test Accuracy:83%\n"
          ],
          "name": "stdout"
        },
        {
          "output_type": "display_data",
          "data": {
            "image/png": "[encoded data removed]",
            "text/plain": [
              "<Figure size 432x288 with 1 Axes>"
            ]
          },
          "metadata": {
            "tags": []
          }
        },
        {
          "output_type": "stream",
          "text": [
            "Iteration: 4900, Train Loss: 0.33089175820350647, Test Accuracy:97%, Adv_test Accuracy:83%\n",
            "Iteration: 5000, Train Loss: 0.41359394788742065, Test Accuracy:97%, Adv_test Accuracy:84%\n",
            "Iteration: 5100, Train Loss: 0.40283530950546265, Test Accuracy:97%, Adv_test Accuracy:83%\n",
            "Iteration: 5200, Train Loss: 0.3464709520339966, Test Accuracy:96%, Adv_test Accuracy:82%\n",
            "Iteration: 5300, Train Loss: 0.36554378271102905, Test Accuracy:97%, Adv_test Accuracy:82%\n",
            "Iteration: 5400, Train Loss: 0.4312470257282257, Test Accuracy:97%, Adv_test Accuracy:83%\n"
          ],
          "name": "stdout"
        },
        {
          "output_type": "display_data",
          "data": {
            "image/png": "[encoded data removed]",
            "text/plain": [
              "<Figure size 432x288 with 1 Axes>"
            ]
          },
          "metadata": {
            "tags": []
          }
        },
        {
          "output_type": "stream",
          "text": [
            "Iteration: 5500, Train Loss: 0.42942678928375244, Test Accuracy:97%, Adv_test Accuracy:82%\n",
            "Iteration: 5600, Train Loss: 0.48300686478614807, Test Accuracy:97%, Adv_test Accuracy:83%\n",
            "Iteration: 5700, Train Loss: 0.3865894079208374, Test Accuracy:97%, Adv_test Accuracy:83%\n",
            "Iteration: 5800, Train Loss: 0.33171090483665466, Test Accuracy:97%, Adv_test Accuracy:83%\n",
            "Iteration: 5900, Train Loss: 0.6376427412033081, Test Accuracy:97%, Adv_test Accuracy:84%\n",
            "Iteration: 6000, Train Loss: 0.3807089924812317, Test Accuracy:97%, Adv_test Accuracy:84%\n",
            "Finished!\n"
          ],
          "name": "stdout"
        }
      ]
    },
    {
      "cell_type": "code",
      "metadata": {
        "id": "8MoQkPfxaixc",
        "colab_type": "code",
        "colab": {}
      },
      "source": [
        ""
      ],
      "execution_count": 0,
      "outputs": []
    },
    {
      "cell_type": "code",
      "metadata": {
        "id": "tk-N6JLpZvfi",
        "colab_type": "code",
        "colab": {}
      },
      "source": [
        ""
      ],
      "execution_count": 0,
      "outputs": []
    }
  ]
}